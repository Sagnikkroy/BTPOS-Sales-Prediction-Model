{
 "cells": [
  {
   "cell_type": "code",
   "execution_count": 2,
   "id": "8daa5d7c",
   "metadata": {},
   "outputs": [
    {
     "name": "stdout",
     "output_type": "stream",
     "text": [
      "Looking for files in: d:\\varsity\\BTPOS-Sales-Prediction-Model\\ds\n",
      "✓ Loaded: menu_ingredient.JSON\n",
      "✓ Loaded: date_seasons.csv\n",
      "✓ Loaded: sales_history.csv\n",
      "✓ Loaded: date_event.csv\n",
      "✓ Loaded: date_weekend.csv\n"
     ]
    }
   ],
   "source": [
    "import pandas as pd\n",
    "from data_reciever import datasets\n",
    "from datetime import datetime\n",
    "from io import StringIO\n",
    "import json"
   ]
  },
  {
   "cell_type": "code",
   "execution_count": 3,
   "id": "e5b9855c",
   "metadata": {},
   "outputs": [],
   "source": [
    "date_itemquantity_df=pd.read_csv('../ds/clean/date_itemquantity.csv')\n",
    "menu_ingredient_df=pd.read_json('../ds/menu_ingredient.json')\n",
    "item_price_df=pd.read_csv('../ds/clean/date_summary.csv')\n",
    "sales_history_df=pd.read_csv('../ds/sales_history.csv')"
   ]
  },
  {
   "cell_type": "code",
   "execution_count": 31,
   "id": "b87f10ce",
   "metadata": {},
   "outputs": [
    {
     "name": "stdout",
     "output_type": "stream",
     "text": [
      "xxx weekends check xxx\n",
      "Number of weekends in each month:\n",
      "===================================\n",
      "2025-01: 8 weekends\n",
      "2025-02: 8 weekends\n",
      "2025-03: 10 weekends\n",
      "2025-04: 8 weekends\n",
      "2025-05: 9 weekends\n",
      "2025-06: 9 weekends\n",
      "2025-07: 8 weekends\n",
      "2025-08: 10 weekends\n",
      "2025-09: 8 weekends\n",
      "2025-10: 8 weekends\n",
      "\n",
      "===================================\n",
      "YearMonth  Number_of_Weekends\n",
      "  2025-01                   8\n",
      "  2025-02                   8\n",
      "  2025-03                  10\n",
      "  2025-04                   8\n",
      "  2025-05                   9\n",
      "  2025-06                   9\n",
      "  2025-07                   8\n",
      "  2025-08                  10\n",
      "  2025-09                   8\n",
      "  2025-10                   8\n"
     ]
    }
   ],
   "source": [
    "print(\"xxx weekends check xxx\")\n",
    "\n",
    "date_itemquantity_df['Date'] = pd.to_datetime(date_itemquantity_df['Date'])\n",
    "date_itemquantity_df['YearMonth'] = date_itemquantity_df['Date'].dt.to_period('M')\n",
    "\n",
    "weekends_per_month = date_itemquantity_df[date_itemquantity_df['Weekend'] == 1].groupby('YearMonth')['Date'].nunique().reset_index()\n",
    "weekends_per_month.columns = ['YearMonth', 'Number_of_Weekends']\n",
    "\n",
    "print(\"Number of weekends in each month:\")\n",
    "print(\"=\" * 35)\n",
    "for _, row in weekends_per_month.iterrows():\n",
    "    print(f\"{row['YearMonth']}: {row['Number_of_Weekends']} weekends\")\n",
    "\n",
    "print(\"\\n\" + \"=\" * 35)\n",
    "print(weekends_per_month.to_string(index=False))"
   ]
  },
  {
   "cell_type": "code",
   "execution_count": 5,
   "id": "99fd712c",
   "metadata": {},
   "outputs": [
    {
     "name": "stdout",
     "output_type": "stream",
     "text": [
      "xxx daily sales xxx\n",
      "           Date  sale_amount\n",
      "0    2024-10-01         9090\n",
      "1    2024-10-02         7760\n",
      "2    2024-10-03         9060\n",
      "3    2024-10-04         7270\n",
      "4    2024-10-05        13180\n",
      "..          ...          ...\n",
      "390  2025-10-26        14320\n",
      "391  2025-10-27        12920\n",
      "392  2025-10-28         9930\n",
      "393  2025-10-29         8710\n",
      "394  2025-10-30        13440\n",
      "\n",
      "[395 rows x 2 columns]\n",
      "Average daily sale: 9592.075949367088\n"
     ]
    }
   ],
   "source": [
    "print(\"xxx daily sales xxx\")\n",
    "\n",
    "\n",
    "df_sales = pd.read_csv(\"../ds/clean/date_itemquantity.csv\")\n",
    "menu_ingredient_df = pd.read_json(\"../ds/menu_ingredient.json\")\n",
    "df_menu = menu_ingredient_df[[\"name\", \"price\"]]\n",
    "df_merged = pd.merge(df_sales, df_menu, left_on=\"Dish\", right_on=\"name\", how=\"left\")\n",
    "df_merged[\"sale_amount\"] = df_merged[\"Quantity\"] * df_merged[\"price\"]\n",
    "daily_sales = df_merged.groupby(\"Date\")[\"sale_amount\"].sum().reset_index()\n",
    "print(daily_sales)\n",
    "store_avg_sale_day = daily_sales[\"sale_amount\"].sum() / len(daily_sales)\n",
    "print(\"Average daily sale:\", store_avg_sale_day)\n"
   ]
  },
  {
   "cell_type": "code",
   "execution_count": 24,
   "id": "4a9e2ac0",
   "metadata": {},
   "outputs": [
    {
     "name": "stdout",
     "output_type": "stream",
     "text": [
      "xxx daily sales check xxx\n",
      "\n",
      "🔹 Daily Comparison between calculated and recorded totals:\n",
      "         Date  sale_amount  Total_Cost_INR  sale_amount_calc  \\\n",
      "0  2024-10-01         9090          9118.0              9090   \n",
      "1  2024-10-02         7760          7800.0              7760   \n",
      "2  2024-10-03         9060          9100.0              9060   \n",
      "3  2024-10-04         7270          7297.0              7270   \n",
      "4  2024-10-05        13180         13227.0             13180   \n",
      "5  2024-10-06        11210         11281.0             11210   \n",
      "6  2024-10-07        10290         10325.0             10290   \n",
      "7  2024-10-08         8580          8615.0              8580   \n",
      "8  2024-10-09         7590          7623.0              7590   \n",
      "9  2024-10-10         7820          7877.0              7820   \n",
      "\n",
      "   TotalCost_recorded  difference  accuracy(%)  \n",
      "0              9118.0        28.0    99.692915  \n",
      "1              7800.0        40.0    99.487179  \n",
      "2              9100.0        40.0    99.560440  \n",
      "3              7297.0        27.0    99.629985  \n",
      "4             13227.0        47.0    99.644666  \n",
      "5             11281.0        71.0    99.370623  \n",
      "6             10325.0        35.0    99.661017  \n",
      "7              8615.0        35.0    99.593732  \n",
      "8              7623.0        33.0    99.567100  \n",
      "9              7877.0        57.0    99.276374  \n",
      "\n",
      " Average matching accuracy: 99.56%\n",
      "Average daily sale (from history): 9633.31 INR\n",
      "Average daily sale (from calculated): 9592.08 INR\n",
      "Average sale match accuracy: 99.57%\n",
      "\n",
      " High Accuracy — averaging both sources.\n",
      "Final Average Daily Sale: 9612.69\n"
     ]
    }
   ],
   "source": [
    "print (\"xxx daily sales check xxx\")\n",
    "\n",
    "\n",
    "df_sales = pd.read_csv(\"../ds/clean/date_itemquantity.csv\")\n",
    "menu_ingredient_df = pd.read_json(\"../ds/menu_ingredient.json\")\n",
    "\n",
    "\n",
    "df_menu = menu_ingredient_df[[\"name\", \"price\"]]\n",
    "\n",
    "\n",
    "df_merged = pd.merge(df_sales, df_menu, left_on=\"Dish\", right_on=\"name\", how=\"left\")\n",
    "\n",
    "\n",
    "df_merged[\"sale_amount\"] = df_merged[\"Quantity\"] * df_merged[\"price\"]\n",
    "\n",
    "\n",
    "daily_sales = df_merged.groupby(\"Date\")[\"sale_amount\"].sum().reset_index()\n",
    "\n",
    "\n",
    "sales_history_df = pd.read_csv(\n",
    "    \"../ds/sales_history.csv\",\n",
    "    header=None,\n",
    "    names=[\"CustomerID\", \"Date\", \"Items_Ordered\", \"Total_Cost_INR\", \"Season\", \"isEvent\", \"Extra\"],\n",
    "    sep=\",\",\n",
    "    engine=\"python\",\n",
    "    on_bad_lines=\"skip\"\n",
    ")\n",
    "\n",
    "sales_history_df[\"Total_Cost_INR\"] = pd.to_numeric(sales_history_df[\"Total_Cost_INR\"], errors=\"coerce\")\n",
    "\n",
    "sales_history_df.dropna(subset=[\"Date\", \"Total_Cost_INR\"], inplace=True)\n",
    "\n",
    "\n",
    "daily_recorded = sales_history_df.groupby(\"Date\")[\"Total_Cost_INR\"].sum().reset_index()\n",
    "\n",
    "\n",
    "comparison = pd.merge(daily_sales, daily_recorded, on=\"Date\", how=\"inner\", suffixes=(\"_calc\", \"_recorded\"))\n",
    "\n",
    "\n",
    "comparison[\"sale_amount_calc\"] = pd.to_numeric(comparison[\"sale_amount\"], errors=\"coerce\")\n",
    "comparison[\"TotalCost_recorded\"] = pd.to_numeric(comparison[\"Total_Cost_INR\"], errors=\"coerce\")\n",
    "\n",
    "\n",
    "comparison[\"difference\"] = abs(comparison[\"sale_amount_calc\"] - comparison[\"TotalCost_recorded\"])\n",
    "comparison[\"accuracy(%)\"] = 100 * (1 - (comparison[\"difference\"] / comparison[\"TotalCost_recorded\"]))\n",
    "\n",
    "\n",
    "print(\"\\n🔹 Daily Comparison between calculated and recorded totals:\")\n",
    "print(comparison.head(10))\n",
    "\n",
    "\n",
    "avg_accuracy = comparison[\"accuracy(%)\"].mean()\n",
    "print(f\"\\n Average matching accuracy: {avg_accuracy:.2f}%\")\n",
    "\n",
    "\n",
    "store_avg_sale_day_history = daily_recorded[\"Total_Cost_INR\"].sum() / len(daily_recorded)\n",
    "print(f\"Average daily sale (from history): {store_avg_sale_day_history:.2f} INR\")\n",
    "\n",
    "\n",
    "store_avg_sale_day_calc = daily_sales[\"sale_amount\"].sum() / len(daily_sales)\n",
    "print(f\"Average daily sale (from calculated): {store_avg_sale_day_calc:.2f} INR\")\n",
    "\n",
    "\n",
    "avg_sale_accuracy = 100 * (1 - abs(store_avg_sale_day_calc - store_avg_sale_day_history) / store_avg_sale_day_history)\n",
    "print(f\"Average sale match accuracy: {avg_sale_accuracy:.2f}%\")\n",
    "\n",
    "if avg_accuracy >= 87:\n",
    "    avg_sale_day = (store_avg_sale_day_history + store_avg_sale_day_calc) / 2\n",
    "    print(\"\\n High Accuracy — averaging both sources.\")\n",
    "else:\n",
    "    avg_sale_day = store_avg_sale_day_history\n",
    "    print(\"\\n  Low Accuracy — using recorded (history) data only.\")\n",
    "\n",
    "print(f\"Final Average Daily Sale: {avg_sale_day:.2f}\")"
   ]
  },
  {
   "cell_type": "code",
   "execution_count": 30,
   "id": "85af8133",
   "metadata": {},
   "outputs": [
    {
     "name": "stdout",
     "output_type": "stream",
     "text": [
      "\n",
      " xxx Total orders per day xxx\n",
      "         Date  Order_Count\n",
      "0  2024-10-01           15\n",
      "1  2024-10-02           15\n",
      "2  2024-10-03           16\n",
      "3  2024-10-04           14\n",
      "4  2024-10-05           20\n",
      "\n",
      " Total number of days recorded: 395\n",
      " Avg orders/day: 16.57\n"
     ]
    }
   ],
   "source": [
    "\n",
    "print(\"\\n xxx Total orders per day xxx\")\n",
    "daily_order_counts = sales_history_df.groupby(\"Date\").size().reset_index(name=\"Order_Count\")\n",
    "avg_order_day = daily_order_counts[\"Order_Count\"].mean()\n",
    "num_days = len(daily_order_counts)\n",
    "\n",
    "print(daily_order_counts.head())\n",
    "\n",
    "print(f\"\\n Total number of days recorded: {num_days}\")\n",
    "print(f\" Avg orders/day: {avg_order_day:.2f}\")"
   ]
  },
  {
   "cell_type": "code",
   "execution_count": null,
   "id": "bcd9b955",
   "metadata": {},
   "outputs": [],
   "source": [
    "print(\"model selection\")"
   ]
  }
 ],
 "metadata": {
  "kernelspec": {
   "display_name": "Python 3",
   "language": "python",
   "name": "python3"
  },
  "language_info": {
   "codemirror_mode": {
    "name": "ipython",
    "version": 3
   },
   "file_extension": ".py",
   "mimetype": "text/x-python",
   "name": "python",
   "nbconvert_exporter": "python",
   "pygments_lexer": "ipython3",
   "version": "3.10.0"
  }
 },
 "nbformat": 4,
 "nbformat_minor": 5
}
