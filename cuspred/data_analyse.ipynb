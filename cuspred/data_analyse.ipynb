{
 "cells": [
  {
   "cell_type": "code",
   "execution_count": 2,
   "id": "8daa5d7c",
   "metadata": {},
   "outputs": [
    {
     "name": "stdout",
     "output_type": "stream",
     "text": [
      "Looking for files in: d:\\varsity\\BTPOS-Sales-Prediction-Model\\ds\n",
      "✓ Loaded: menu_ingredient.JSON\n",
      "✓ Loaded: date_seasons.csv\n",
      "✓ Loaded: sales_history.csv\n",
      "✓ Loaded: date_event.csv\n",
      "✓ Loaded: date_weekend.csv\n"
     ]
    }
   ],
   "source": [
    "import pandas as pd\n",
    "from data_reciever import datasets\n",
    "from datetime import datetime\n",
    "from io import StringIO\n",
    "import json"
   ]
  },
  {
   "cell_type": "code",
   "execution_count": 3,
   "id": "e5b9855c",
   "metadata": {},
   "outputs": [],
   "source": [
    "date_itemquantity_df=pd.read_csv('../ds/clean/date_itemquantity.csv')\n",
    "menu_ingredient_df=pd.read_json('../ds/menu_ingredient.json')\n",
    "item_price_df=pd.read_csv('../ds/clean/date_summary.csv')\n",
    "sales_history_df=pd.read_csv('../ds/sales_history.csv')"
   ]
  },
  {
   "cell_type": "code",
   "execution_count": 4,
   "id": "b87f10ce",
   "metadata": {},
   "outputs": [
    {
     "name": "stdout",
     "output_type": "stream",
     "text": [
      "xxx weekends check xxx\n",
      "Number of weekends in each month:\n",
      "===================================\n",
      "2025-01: 8 weekends\n",
      "2025-02: 8 weekends\n",
      "2025-03: 10 weekends\n",
      "2025-04: 8 weekends\n",
      "2025-05: 9 weekends\n",
      "2025-06: 9 weekends\n",
      "2025-07: 8 weekends\n",
      "2025-08: 10 weekends\n",
      "2025-09: 8 weekends\n",
      "2025-10: 8 weekends\n",
      "\n",
      "===================================\n",
      "YearMonth  Number_of_Weekends\n",
      "  2025-01                   8\n",
      "  2025-02                   8\n",
      "  2025-03                  10\n",
      "  2025-04                   8\n",
      "  2025-05                   9\n",
      "  2025-06                   9\n",
      "  2025-07                   8\n",
      "  2025-08                  10\n",
      "  2025-09                   8\n",
      "  2025-10                   8\n"
     ]
    }
   ],
   "source": [
    "print(\"xxx weekends check xxx\")\n",
    "\n",
    "# Convert Date to datetime and extract year-month\n",
    "date_itemquantity_df['Date'] = pd.to_datetime(date_itemquantity_df['Date'])\n",
    "date_itemquantity_df['YearMonth'] = date_itemquantity_df['Date'].dt.to_period('M')\n",
    "\n",
    "# Count weekends per month (only dates where Weekend = 1)\n",
    "weekends_per_month = date_itemquantity_df[date_itemquantity_df['Weekend'] == 1].groupby('YearMonth')['Date'].nunique().reset_index()\n",
    "weekends_per_month.columns = ['YearMonth', 'Number_of_Weekends']\n",
    "\n",
    "print(\"Number of weekends in each month:\")\n",
    "print(\"=\" * 35)\n",
    "for _, row in weekends_per_month.iterrows():\n",
    "    print(f\"{row['YearMonth']}: {row['Number_of_Weekends']} weekends\")\n",
    "\n",
    "# Alternative: Simple display\n",
    "print(\"\\n\" + \"=\" * 35)\n",
    "print(weekends_per_month.to_string(index=False))"
   ]
  },
  {
   "cell_type": "code",
   "execution_count": 5,
   "id": "99fd712c",
   "metadata": {},
   "outputs": [
    {
     "name": "stdout",
     "output_type": "stream",
     "text": [
      "xxx daily sales xxx\n",
      "           Date  sale_amount\n",
      "0    2024-10-01         9090\n",
      "1    2024-10-02         7760\n",
      "2    2024-10-03         9060\n",
      "3    2024-10-04         7270\n",
      "4    2024-10-05        13180\n",
      "..          ...          ...\n",
      "390  2025-10-26        14320\n",
      "391  2025-10-27        12920\n",
      "392  2025-10-28         9930\n",
      "393  2025-10-29         8710\n",
      "394  2025-10-30        13440\n",
      "\n",
      "[395 rows x 2 columns]\n",
      "Average daily sale: 9592.075949367088\n"
     ]
    }
   ],
   "source": [
    "print(\"xxx daily sales xxx\")\n",
    "\n",
    "\n",
    "df_sales = pd.read_csv(\"../ds/clean/date_itemquantity.csv\")\n",
    "menu_ingredient_df = pd.read_json(\"../ds/menu_ingredient.json\")\n",
    "df_menu = menu_ingredient_df[[\"name\", \"price\"]]\n",
    "df_merged = pd.merge(df_sales, df_menu, left_on=\"Dish\", right_on=\"name\", how=\"left\")\n",
    "df_merged[\"sale_amount\"] = df_merged[\"Quantity\"] * df_merged[\"price\"]\n",
    "daily_sales = df_merged.groupby(\"Date\")[\"sale_amount\"].sum().reset_index()\n",
    "print(daily_sales)\n",
    "store_avg_sale_day = daily_sales[\"sale_amount\"].sum() / len(daily_sales)\n",
    "print(\"Average daily sale:\", store_avg_sale_day)\n"
   ]
  },
  {
   "cell_type": "code",
   "execution_count": 13,
   "id": "4a9e2ac0",
   "metadata": {},
   "outputs": [
    {
     "name": "stdout",
     "output_type": "stream",
     "text": [
      "xxx daily sales check xxx\n",
      "\n",
      "🔹 Daily Comparison between calculated and recorded totals:\n",
      "           Date  sale_amount  \\\n",
      "0    2024-10-01         9090   \n",
      "1    2024-10-02         7760   \n",
      "2    2024-10-03         9060   \n",
      "3    2024-10-04         7270   \n",
      "4    2024-10-05        13180   \n",
      "..          ...          ...   \n",
      "390  2025-10-26        14320   \n",
      "391  2025-10-27        12920   \n",
      "392  2025-10-28         9930   \n",
      "393  2025-10-29         8710   \n",
      "394  2025-10-30        13440   \n",
      "\n",
      "                                        Total_Cost_INR  sale_amount_calc  \\\n",
      "0      45217017475875395557763265293391333229151319535              9090   \n",
      "1        619647767378566524292391605715745594138443376              7760   \n",
      "2     622661684355617282820816390462724286669425578709              9060   \n",
      "3           448997627928189618198802616186559284438407              7270   \n",
      "4    6149915269276913873213201336126422294757320711...             13180   \n",
      "..                                                 ...               ...   \n",
      "390  3308009124151934665027583805734644567253738863...             14320   \n",
      "391  5809876108477873171234381565197667737434547321...             12920   \n",
      "392  1375575594774027214375212414833839112277473916...              9930   \n",
      "393  1962285271192334823273882371046357920101143423...              8710   \n",
      "394  7447033185845028435773235476305608524259415618...             13440   \n",
      "\n",
      "     TotalCost_recorded    difference  accuracy(%)  \n",
      "0          4.521702e+46  4.521702e+46          0.0  \n",
      "1          6.196478e+44  6.196478e+44          0.0  \n",
      "2          6.226617e+47  6.226617e+47          0.0  \n",
      "3          4.489976e+41  4.489976e+41          0.0  \n",
      "4          6.149915e+62  6.149915e+62          0.0  \n",
      "..                  ...           ...          ...  \n",
      "390        3.308009e+74  3.308009e+74          0.0  \n",
      "391        5.809876e+64  5.809876e+64          0.0  \n",
      "392        1.375576e+57  1.375576e+57          0.0  \n",
      "393        1.962285e+58  1.962285e+58          0.0  \n",
      "394        7.447033e+65  7.447033e+65          0.0  \n",
      "\n",
      "[395 rows x 7 columns]\n",
      "\n",
      "✅ Average matching accuracy: 0.00%\n"
     ]
    },
    {
     "ename": "TypeError",
     "evalue": "unsupported operand type(s) for /: 'str' and 'int'",
     "output_type": "error",
     "traceback": [
      "\u001b[1;31m---------------------------------------------------------------------------\u001b[0m",
      "\u001b[1;31mTypeError\u001b[0m                                 Traceback (most recent call last)",
      "Cell \u001b[1;32mIn[13], line 31\u001b[0m\n\u001b[0;32m     28\u001b[0m \u001b[38;5;28mprint\u001b[39m(\u001b[38;5;124mf\u001b[39m\u001b[38;5;124m\"\u001b[39m\u001b[38;5;130;01m\\n\u001b[39;00m\u001b[38;5;124m✅ Average matching accuracy: \u001b[39m\u001b[38;5;132;01m{\u001b[39;00mavg_accuracy\u001b[38;5;132;01m:\u001b[39;00m\u001b[38;5;124m.2f\u001b[39m\u001b[38;5;132;01m}\u001b[39;00m\u001b[38;5;124m%\u001b[39m\u001b[38;5;124m\"\u001b[39m)\n\u001b[0;32m     30\u001b[0m \u001b[38;5;66;03m# --- 13️⃣ Average daily sale from recorded history ---\u001b[39;00m\n\u001b[1;32m---> 31\u001b[0m store_avg_sale_day_history \u001b[38;5;241m=\u001b[39m \u001b[43mdaily_recorded\u001b[49m\u001b[43m[\u001b[49m\u001b[38;5;124;43m\"\u001b[39;49m\u001b[38;5;124;43mTotal_Cost_INR\u001b[39;49m\u001b[38;5;124;43m\"\u001b[39;49m\u001b[43m]\u001b[49m\u001b[38;5;241;43m.\u001b[39;49m\u001b[43msum\u001b[49m\u001b[43m(\u001b[49m\u001b[43m)\u001b[49m\u001b[43m \u001b[49m\u001b[38;5;241;43m/\u001b[39;49m\u001b[43m \u001b[49m\u001b[38;5;28;43mlen\u001b[39;49m\u001b[43m(\u001b[49m\u001b[43mdaily_recorded\u001b[49m\u001b[43m)\u001b[49m\n\u001b[0;32m     32\u001b[0m \u001b[38;5;28mprint\u001b[39m(\u001b[38;5;124m\"\u001b[39m\u001b[38;5;124mAverage daily sale (from history):\u001b[39m\u001b[38;5;124m\"\u001b[39m, store_avg_sale_day_history)\n",
      "\u001b[1;31mTypeError\u001b[0m: unsupported operand type(s) for /: 'str' and 'int'"
     ]
    }
   ],
   "source": [
    "print (\"xxx daily sales check xxx\")\n",
    "\n",
    "# --- 8️⃣ Read actual sales history ---\n",
    "sales_history_df = pd.read_csv(\"../ds/sales_history.csv\", header=None,\n",
    "                               names=[\"CustomerID\", \"Date\", \"Items_Ordered\", \"Total_Cost_INR\", \"Season\", \"isEvent\",\"\"])\n",
    "\n",
    "# --- 9️⃣ Group by Date and sum total recorded sales ---\n",
    "daily_recorded = sales_history_df.groupby(\"Date\")[\"Total_Cost_INR\"].sum().reset_index()\n",
    "\n",
    "# --- 🔟 Merge the calculated and recorded daily sales ---\n",
    "comparison = pd.merge(daily_sales, daily_recorded, on=\"Date\", how=\"inner\",\n",
    "                      suffixes=(\"_calc\", \"_recorded\"))\n",
    "\n",
    "# Ensure both columns are numeric\n",
    "comparison[\"sale_amount_calc\"] = pd.to_numeric(comparison[\"sale_amount\"], errors=\"coerce\")\n",
    "comparison[\"TotalCost_recorded\"] = pd.to_numeric(comparison[\"Total_Cost_INR\"], errors=\"coerce\")\n",
    "\n",
    "# Now safely compute difference and accuracy\n",
    "comparison[\"difference\"] = abs(comparison[\"sale_amount_calc\"] - comparison[\"TotalCost_recorded\"])\n",
    "comparison[\"accuracy(%)\"] = 100 * (1 - (comparison[\"difference\"] / comparison[\"TotalCost_recorded\"]))\n",
    "\n",
    "\n",
    "print(\"\\n🔹 Daily Comparison between calculated and recorded totals:\")\n",
    "print(comparison)\n",
    "\n",
    "# --- 12️⃣ Calculate average accuracy across all days ---\n",
    "avg_accuracy = comparison[\"accuracy(%)\"].mean()\n",
    "print(f\"\\n✅ Average matching accuracy: {avg_accuracy:.2f}%\")\n",
    "\n",
    "# --- 13️⃣ Average daily sale from recorded history ---\n",
    "store_avg_sale_day_history = daily_recorded[\"Total_Cost_INR\"].sum() / len(daily_recorded)\n",
    "print(\"Average daily sale (from history):\", store_avg_sale_day_history)"
   ]
  }
 ],
 "metadata": {
  "kernelspec": {
   "display_name": "Python 3",
   "language": "python",
   "name": "python3"
  },
  "language_info": {
   "codemirror_mode": {
    "name": "ipython",
    "version": 3
   },
   "file_extension": ".py",
   "mimetype": "text/x-python",
   "name": "python",
   "nbconvert_exporter": "python",
   "pygments_lexer": "ipython3",
   "version": "3.10.0"
  }
 },
 "nbformat": 4,
 "nbformat_minor": 5
}
