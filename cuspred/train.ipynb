{
 "cells": [
  {
   "cell_type": "markdown",
   "id": "5bfd3636",
   "metadata": {},
   "source": [
    "from data_processor"
   ]
  }
 ],
 "metadata": {
  "language_info": {
   "name": "python"
  }
 },
 "nbformat": 4,
 "nbformat_minor": 5
}
