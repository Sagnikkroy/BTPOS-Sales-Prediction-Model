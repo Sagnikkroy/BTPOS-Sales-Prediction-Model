{
 "cells": [
  {
   "cell_type": "code",
   "execution_count": 10,
   "id": "4ca49c68",
   "metadata": {},
   "outputs": [],
   "source": [
    "import pandas as pd\n",
    "from data_reciever import datasets"
   ]
  },
  {
   "cell_type": "code",
   "execution_count": 11,
   "id": "f8a74e27",
   "metadata": {},
   "outputs": [
    {
     "name": "stdout",
     "output_type": "stream",
     "text": [
      "xxx MENU INGREDIENT xxx\n",
      "   item_id                  name     category  price  \\\n",
      "0        1  Paneer Butter Masala  Main Course    280   \n",
      "1        2       Chicken Biryani  Main Course    320   \n",
      "2        3        Veg Fried Rice  Main Course    200   \n",
      "3        4             Dal Tadka  Main Course    180   \n",
      "4        5           Butter Naan        Bread     50   \n",
      "\n",
      "                                         ingredients  \n",
      "0  [{'name': 'Paneer', 'quantity': '150g'}, {'nam...  \n",
      "1  [{'name': 'Basmati Rice', 'quantity': '150g'},...  \n",
      "2  [{'name': 'Rice', 'quantity': '150g'}, {'name'...  \n",
      "3  [{'name': 'Toor Dal', 'quantity': '120g'}, {'n...  \n",
      "4  [{'name': 'Flour', 'quantity': '80g'}, {'name'...  \n",
      "Shape: (30, 5)\n",
      "\n",
      "xxx SEASONS xxx\n",
      "Dataset not loaded\n",
      "\n",
      "xxx SALES HISTORY xxx\n",
      "  Customer_ID        Date                                      Items_Ordered  \\\n",
      "0    CUST1018  2024-10-01                          Egg Curry x1; Fish Fry x1   \n",
      "1    CUST1021  2024-10-01  Caesar Salad x2; Paneer Butter Masala x2; Pane...   \n",
      "2    CUST1040  2024-10-01  Cold Coffee x1; Veg Pulao x1; Mojito x1; Pasta...   \n",
      "3    CUST1046  2024-10-01  French Fries x1; Mojito x1; Veg Burger x1; Mas...   \n",
      "4    CUST1049  2024-10-01                        Veg Burger x1; Dal Tadka x2   \n",
      "\n",
      "   Total_Cost_INR   Season Is_Event Event_Name  \n",
      "0             452  Unknown       No        NaN  \n",
      "1            1701  Unknown       No        NaN  \n",
      "2             747  Unknown       No        NaN  \n",
      "3             587  Unknown       No        NaN  \n",
      "4             539  Unknown       No        NaN  \n",
      "Shape: (6546, 7)\n",
      "\n",
      "xxx EVENT xxx\n",
      "Dataset not loaded\n",
      "\n",
      "xxx WEEKEND xxx\n",
      "Dataset not loaded\n",
      "\n"
     ]
    }
   ],
   "source": [
    "def check_dataset(name, display_name=None):\n",
    "    if display_name is None:\n",
    "        display_name = name.replace('_', ' ').title()\n",
    "    \n",
    "    print(f\"xxx {display_name.upper()} xxx\")\n",
    "    if name in datasets and datasets[name] is not None:\n",
    "        print(datasets[name].head())\n",
    "        print(f\"Shape: {datasets[name].shape}\")\n",
    "    else:\n",
    "        print(\"Dataset not loaded\")\n",
    "    print()\n",
    "\n",
    "# Check all datasets\n",
    "check_dataset('menu_ingredient', 'MENU INGREDIENT')\n",
    "check_dataset('seasons', 'SEASONS')\n",
    "check_dataset('sales_history', 'SALES HISTORY')\n",
    "check_dataset('event', 'EVENT')\n",
    "check_dataset('weekend', 'WEEKEND')"
   ]
  },
  {
   "cell_type": "code",
   "execution_count": null,
   "id": "1da60cd4",
   "metadata": {},
   "outputs": [],
   "source": [
    "# More concise approach\n",
    "df_exploded = df.copy()\n",
    "df_exploded['menu_ingredient'] = df_exploded['Items_Ordered'].str.split('; ')\n",
    "\n",
    "# Explode the list and separate dish from quantity\n",
    "df_exploded = df_exploded.explode('Items_Ordered')\n",
    "df_exploded[['Dish', 'Quantity']] = df_exploded['Items_Ordered'].str.rsplit(' x', n=1, expand=True)\n",
    "df_exploded['Quantity'] = df_exploded['Quantity'].astype(int)\n",
    "\n",
    "# Drop the original column and keep the structured data\n",
    "date_itemquantity_holdiay = df_exploded[['Date', 'Customer_ID', 'Dish', 'Quantity']].reset_index(drop=True)\n",
    "print(date_itemquantity_holdiay)"
   ]
  }
 ],
 "metadata": {
  "kernelspec": {
   "display_name": "Python 3",
   "language": "python",
   "name": "python3"
  },
  "language_info": {
   "codemirror_mode": {
    "name": "ipython",
    "version": 3
   },
   "file_extension": ".py",
   "mimetype": "text/x-python",
   "name": "python",
   "nbconvert_exporter": "python",
   "pygments_lexer": "ipython3",
   "version": "3.10.0"
  }
 },
 "nbformat": 4,
 "nbformat_minor": 5
}
