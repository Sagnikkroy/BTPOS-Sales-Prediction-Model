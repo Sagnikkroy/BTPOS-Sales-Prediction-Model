{
 "cells": [
  {
   "cell_type": "code",
   "execution_count": 12,
   "id": "4ca49c68",
   "metadata": {},
   "outputs": [],
   "source": [
    "import pandas as pd\n",
    "from data_reciever import datasets"
   ]
  },
  {
   "cell_type": "code",
   "execution_count": 23,
   "id": "f8a74e27",
   "metadata": {},
   "outputs": [
    {
     "name": "stdout",
     "output_type": "stream",
     "text": [
      "xxx MENU INGREDIENT xxx\n",
      "   item_id                  name     category  price  \\\n",
      "0        1  Paneer Butter Masala  Main Course    280   \n",
      "1        2       Chicken Biryani  Main Course    320   \n",
      "2        3        Veg Fried Rice  Main Course    200   \n",
      "3        4             Dal Tadka  Main Course    180   \n",
      "4        5           Butter Naan        Bread     50   \n",
      "\n",
      "                                         ingredients  \n",
      "0  [{'name': 'Paneer', 'quantity': '150g'}, {'nam...  \n",
      "1  [{'name': 'Basmati Rice', 'quantity': '150g'},...  \n",
      "2  [{'name': 'Rice', 'quantity': '150g'}, {'name'...  \n",
      "3  [{'name': 'Toor Dal', 'quantity': '120g'}, {'n...  \n",
      "4  [{'name': 'Flour', 'quantity': '80g'}, {'name'...  \n",
      "Shape: (30, 5)\n",
      "\n",
      "xxx SEASONS xxx\n",
      "         date  season\n",
      "0  2025-01-01  Winter\n",
      "1  2025-01-02  Winter\n",
      "2  2025-01-03  Winter\n",
      "3  2025-01-04  Winter\n",
      "4  2025-01-05  Winter\n",
      "Shape: (365, 2)\n",
      "\n",
      "xxx SALES HISTORY xxx\n",
      "  Customer_ID        Date                                      Items_Ordered  \\\n",
      "0    CUST1018  2024-10-01                          Egg Curry x1; Fish Fry x1   \n",
      "1    CUST1021  2024-10-01  Caesar Salad x2; Paneer Butter Masala x2; Pane...   \n",
      "2    CUST1040  2024-10-01  Cold Coffee x1; Veg Pulao x1; Mojito x1; Pasta...   \n",
      "3    CUST1046  2024-10-01  French Fries x1; Mojito x1; Veg Burger x1; Mas...   \n",
      "4    CUST1049  2024-10-01                        Veg Burger x1; Dal Tadka x2   \n",
      "\n",
      "   Total_Cost_INR   Season Is_Event Event_Name  \n",
      "0             452  Unknown       No        NaN  \n",
      "1            1701  Unknown       No        NaN  \n",
      "2             747  Unknown       No        NaN  \n",
      "3             587  Unknown       No        NaN  \n",
      "4             539  Unknown       No        NaN  \n",
      "Shape: (6546, 7)\n",
      "\n",
      "xxx EVENT xxx\n",
      "         date                               event\n",
      "0  2025-01-01                      New Year’s Day\n",
      "1  2025-01-12       Birthday of Swami Vivekananda\n",
      "2  2025-01-23  Netaji Subhas Chandra Bose Jayanti\n",
      "3  2025-01-26                        Republic Day\n",
      "4  2025-02-02    Vasant Panchami / Saraswati Puja\n",
      "Shape: (33, 2)\n",
      "\n",
      "xxx WEEKEND xxx\n",
      "         date       day     type\n",
      "0  2025-01-04  Saturday  Weekend\n",
      "1  2025-01-05    Sunday  Weekend\n",
      "2  2025-01-11  Saturday  Weekend\n",
      "3  2025-01-12    Sunday  Weekend\n",
      "4  2025-01-18  Saturday  Weekend\n",
      "Shape: (104, 3)\n",
      "\n"
     ]
    }
   ],
   "source": [
    "def check_dataset(name, display_name=None):\n",
    "    if display_name is None:\n",
    "        display_name = name.replace('_', ' ').title()\n",
    "    \n",
    "    print(f\"xxx {display_name.upper()} xxx\")\n",
    "    if name in datasets and datasets[name] is not None:\n",
    "        print(datasets[name].head())\n",
    "        print(f\"Shape: {datasets[name].shape}\")\n",
    "    else:\n",
    "        print(\"Dataset not loaded\")\n",
    "    print()\n",
    "\n",
    "# Check all datasets with correct keys\n",
    "check_dataset('menu_ingredient', 'MENU INGREDIENT')\n",
    "check_dataset('date_seasons', 'SEASONS')  # Changed from 'seasons'\n",
    "check_dataset('sales_history', 'SALES HISTORY')\n",
    "check_dataset('date_event', 'EVENT')      # Changed from 'event'\n",
    "check_dataset('date_weekend', 'WEEKEND')  # Changed from 'weekend'"
   ]
  },
  {
   "cell_type": "code",
   "execution_count": 35,
   "id": "1da60cd4",
   "metadata": {},
   "outputs": [
    {
     "name": "stdout",
     "output_type": "stream",
     "text": [
      "xxx Date vs quantity xxx\n",
      "           Date Customer_ID                  Dish  Quantity  Weekend  Event\n",
      "0    2024-10-01    CUST1018             Egg Curry         1        0      0\n",
      "1    2024-10-01    CUST1018              Fish Fry         1        0      0\n",
      "2    2024-10-01    CUST1021          Caesar Salad         2        0      0\n",
      "3    2024-10-01    CUST1021  Paneer Butter Masala         2        0      0\n",
      "4    2024-10-01    CUST1021  Paneer Butter Masala         1        0      0\n",
      "..          ...         ...                   ...       ...      ...    ...\n",
      "245  2024-10-06    CUST1251                Mojito         1        0      0\n",
      "246  2024-10-06    CUST1274          Caesar Salad         1        0      0\n",
      "247  2024-10-06    CUST1274             Egg Curry         2        0      0\n",
      "248  2024-10-06    CUST1297           Cold Coffee         1        0      0\n",
      "249  2024-10-06    CUST1297         Pasta Alfredo         2        0      0\n",
      "\n",
      "[250 rows x 6 columns]\n",
      "\n",
      "Shape: (16856, 6)\n"
     ]
    }
   ],
   "source": [
    "print(\"xxx Date vs quantity xxx\")\n",
    "sales_df = datasets['sales_history']\n",
    "seasons_df = datasets['date_seasons']\n",
    "event_df = datasets['date_event']\n",
    "weekend_df = datasets['date_weekend']\n",
    "\n",
    "# Function to parse items and quantities\n",
    "def parse_items(items_string):\n",
    "    items = []\n",
    "    for item in items_string.split('; '):\n",
    "        if ' x' in item:\n",
    "            name, quantity = item.rsplit(' x', 1)\n",
    "            items.append({'dish': name.strip(), 'quantity': int(quantity)})\n",
    "    return items\n",
    "\n",
    "# Create a new structured DataFrame\n",
    "structured_data = []\n",
    "\n",
    "for _, row in sales_df.iterrows():\n",
    "    items_list = parse_items(row['Items_Ordered'])\n",
    "    for item in items_list:\n",
    "        structured_data.append({\n",
    "            'Date': row['Date'],\n",
    "            'Customer_ID': row['Customer_ID'],\n",
    "            'Dish': item['dish'],\n",
    "            'Quantity': item['quantity']\n",
    "        })\n",
    "\n",
    "# Create the final DataFrame\n",
    "date_itemquantity_df = pd.DataFrame(structured_data)\n",
    "\n",
    "# Create sets of weekend dates and event dates for fast lookup\n",
    "weekend_dates = set(weekend_df['date'].astype(str))\n",
    "event_dates = set(event_df['date'].astype(str))\n",
    "\n",
    "# Add Weekend column (1 if date is in weekend, else 0)\n",
    "date_itemquantity_df['Weekend'] = date_itemquantity_df['Date'].isin(weekend_dates).astype(int)\n",
    "\n",
    "# Add Event column (1 if date has event, else 0)\n",
    "date_itemquantity_df['Event'] = date_itemquantity_df['Date'].isin(event_dates).astype(int)\n",
    "\n",
    "print(date_itemquantity_df.head(250))\n",
    "print(f\"\\nShape: {date_itemquantity_df.shape}\")"
   ]
  },
  {
   "cell_type": "code",
   "execution_count": 38,
   "id": "82b54513",
   "metadata": {},
   "outputs": [
    {
     "name": "stdout",
     "output_type": "stream",
     "text": [
      "xxx Date vs sales xxx\n",
      "Date-wise Sales Summary:\n",
      "          Date   Sale  Number_of_Orders  Average_Order_Value\n",
      "0   2024-10-01   9118                15           607.866667\n",
      "1   2024-10-02   7800                15           520.000000\n",
      "2   2024-10-03   9100                16           568.750000\n",
      "3   2024-10-04   7297                14           521.214286\n",
      "4   2024-10-05  13227                20           661.350000\n",
      "5   2024-10-06  11281                18           626.722222\n",
      "6   2024-10-07  10325                15           688.333333\n",
      "7   2024-10-08   8615                16           538.437500\n",
      "8   2024-10-09   7623                16           476.437500\n",
      "9   2024-10-10   7877                13           605.923077\n",
      "10  2024-10-11   8735                13           671.923077\n",
      "11  2024-10-12  14594                21           694.952381\n",
      "12  2024-10-13  12868                20           643.400000\n",
      "13  2024-10-14   8657                15           577.133333\n",
      "14  2024-10-15   8304                12           692.000000\n",
      "15  2024-10-16  11373                17           669.000000\n",
      "16  2024-10-17   9631                16           601.937500\n",
      "17  2024-10-18   7101                14           507.214286\n",
      "18  2024-10-19  11005                22           500.227273\n",
      "19  2024-10-20  10831                18           601.722222\n",
      "\n",
      "Shape: (395, 4)\n"
     ]
    }
   ],
   "source": [
    "print(\"xxx Date vs sales xxx\")\n",
    "sales_df = datasets['sales_history']\n",
    "\n",
    "# More detailed version with order count and average order value\n",
    "date_summary_df = sales_df.groupby('Date').agg({\n",
    "    'Total_Cost_INR': 'sum',\n",
    "    'Customer_ID': 'count'\n",
    "}).reset_index()\n",
    "\n",
    "date_summary_df = date_summary_df.rename(columns={\n",
    "    'Total_Cost_INR': 'Sale',\n",
    "    'Customer_ID': 'Number_of_Orders'\n",
    "})\n",
    "\n",
    "# Calculate average order value\n",
    "date_summary_df['Average_Order_Value'] = date_summary_df['Sale'] / date_summary_df['Number_of_Orders']\n",
    "\n",
    "# Sort by date\n",
    "date_summary_df = date_summary_df.sort_values('Date')\n",
    "\n",
    "print(\"Date-wise Sales Summary:\")\n",
    "print(date_summary_df.head(20))\n",
    "print(f\"\\nShape: {date_summary_df.shape}\")"
   ]
  },
  {
   "cell_type": "code",
   "execution_count": 40,
   "id": "69b30add",
   "metadata": {},
   "outputs": [
    {
     "name": "stdout",
     "output_type": "stream",
     "text": [
      "Cleaned datasets saved to 'ds/clean/' folder\n"
     ]
    }
   ],
   "source": [
    "date_itemquantity_df.to_csv('../ds/clean/date_itemquantity.csv', index=False)\n",
    "date_summary_df.to_csv('../ds/clean/date_summary.csv', index=False)\n",
    "print(\"Cleaned datasets saved to 'ds/clean/' folder\")"
   ]
  }
 ],
 "metadata": {
  "kernelspec": {
   "display_name": "Python 3",
   "language": "python",
   "name": "python3"
  },
  "language_info": {
   "codemirror_mode": {
    "name": "ipython",
    "version": 3
   },
   "file_extension": ".py",
   "mimetype": "text/x-python",
   "name": "python",
   "nbconvert_exporter": "python",
   "pygments_lexer": "ipython3",
   "version": "3.10.0"
  }
 },
 "nbformat": 4,
 "nbformat_minor": 5
}
