{
 "cells": [
  {
   "cell_type": "code",
   "execution_count": 23,
   "id": "4ca49c68",
   "metadata": {},
   "outputs": [],
   "source": [
    "from data_reciever import datasets\n"
   ]
  },
  {
   "cell_type": "code",
   "execution_count": 24,
   "id": "f8a74e27",
   "metadata": {},
   "outputs": [
    {
     "name": "stdout",
     "output_type": "stream",
     "text": [
      "=== MENU INGREDIENT ===\n",
      "Dataset not loaded\n",
      "\n",
      "=== SEASONS ===\n",
      "Dataset not loaded\n",
      "\n",
      "=== SALES HISTORY ===\n",
      "  Customer_ID        Date                                      Items_Ordered  \\\n",
      "0    CUST1018  2024-10-01                          Egg Curry x1; Fish Fry x1   \n",
      "1    CUST1021  2024-10-01  Caesar Salad x2; Paneer Butter Masala x2; Pane...   \n",
      "2    CUST1040  2024-10-01  Cold Coffee x1; Veg Pulao x1; Mojito x1; Pasta...   \n",
      "3    CUST1046  2024-10-01  French Fries x1; Mojito x1; Veg Burger x1; Mas...   \n",
      "4    CUST1049  2024-10-01                        Veg Burger x1; Dal Tadka x2   \n",
      "\n",
      "   Total_Cost_INR   Season Is_Event Event_Name  \n",
      "0             452  Unknown       No        NaN  \n",
      "1            1701  Unknown       No        NaN  \n",
      "2             747  Unknown       No        NaN  \n",
      "3             587  Unknown       No        NaN  \n",
      "4             539  Unknown       No        NaN  \n",
      "Shape: (6546, 7)\n",
      "\n",
      "=== EVENT ===\n",
      "Dataset not loaded\n",
      "\n",
      "=== WEEKEND ===\n",
      "Dataset not loaded\n",
      "\n"
     ]
    }
   ],
   "source": [
    "def check_dataset(name, display_name=None):\n",
    "    if display_name is None:\n",
    "        display_name = name.replace('_', ' ').title()\n",
    "    \n",
    "    print(f\"=== {display_name.upper()} ===\")\n",
    "    if name in datasets and datasets[name] is not None:\n",
    "        print(datasets[name].head())\n",
    "        print(f\"Shape: {datasets[name].shape}\")\n",
    "    else:\n",
    "        print(\"Dataset not loaded\")\n",
    "    print()\n",
    "\n",
    "# Check all datasets\n",
    "check_dataset('menu_ingredient', 'MENU INGREDIENT')\n",
    "check_dataset('seasons', 'SEASONS')\n",
    "check_dataset('sales_history', 'SALES HISTORY')\n",
    "check_dataset('event', 'EVENT')\n",
    "check_dataset('weekend', 'WEEKEND')"
   ]
  }
 ],
 "metadata": {
  "kernelspec": {
   "display_name": "Python 3",
   "language": "python",
   "name": "python3"
  },
  "language_info": {
   "codemirror_mode": {
    "name": "ipython",
    "version": 3
   },
   "file_extension": ".py",
   "mimetype": "text/x-python",
   "name": "python",
   "nbconvert_exporter": "python",
   "pygments_lexer": "ipython3",
   "version": "3.10.0"
  }
 },
 "nbformat": 4,
 "nbformat_minor": 5
}
